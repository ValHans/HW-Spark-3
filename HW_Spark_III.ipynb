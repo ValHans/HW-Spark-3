{
  "nbformat": 4,
  "nbformat_minor": 0,
  "metadata": {
    "colab": {
      "provenance": []
    },
    "kernelspec": {
      "name": "python3",
      "display_name": "Python 3"
    },
    "language_info": {
      "name": "python"
    }
  },
  "cells": [
    {
      "cell_type": "code",
      "execution_count": 1,
      "metadata": {
        "colab": {
          "base_uri": "https://localhost:8080/"
        },
        "collapsed": true,
        "id": "Qhrn4pjiVqgN",
        "outputId": "96b8da48-c12e-4693-fc90-ddc26f5d0dc7"
      },
      "outputs": [
        {
          "output_type": "stream",
          "name": "stdout",
          "text": [
            "Collecting pyspark\n",
            "  Downloading pyspark-3.5.1.tar.gz (317.0 MB)\n",
            "\u001b[2K     \u001b[90m━━━━━━━━━━━━━━━━━━━━━━━━━━━━━━━━━━━━━━━━\u001b[0m \u001b[32m317.0/317.0 MB\u001b[0m \u001b[31m3.7 MB/s\u001b[0m eta \u001b[36m0:00:00\u001b[0m\n",
            "\u001b[?25h  Preparing metadata (setup.py) ... \u001b[?25l\u001b[?25hdone\n",
            "Requirement already satisfied: py4j==0.10.9.7 in /usr/local/lib/python3.10/dist-packages (from pyspark) (0.10.9.7)\n",
            "Building wheels for collected packages: pyspark\n",
            "  Building wheel for pyspark (setup.py) ... \u001b[?25l\u001b[?25hdone\n",
            "  Created wheel for pyspark: filename=pyspark-3.5.1-py2.py3-none-any.whl size=317488491 sha256=edfa8e4fe37af8938e2cede9870319b644a90bfc7be204f7b2c941e8701081b3\n",
            "  Stored in directory: /root/.cache/pip/wheels/80/1d/60/2c256ed38dddce2fdd93be545214a63e02fbd8d74fb0b7f3a6\n",
            "Successfully built pyspark\n",
            "Installing collected packages: pyspark\n",
            "Successfully installed pyspark-3.5.1\n"
          ]
        }
      ],
      "source": [
        "!pip install pyspark"
      ]
    },
    {
      "cell_type": "code",
      "source": [
        "from pyspark.sql import SparkSession\n",
        "from pyspark.sql import Row\n",
        "\n",
        "# Create a SparkSession\n",
        "spark = SparkSession.builder.appName(\"SparkSQL\").getOrCreate()"
      ],
      "metadata": {
        "id": "VZ4SPWQtXpWp"
      },
      "execution_count": 6,
      "outputs": []
    },
    {
      "cell_type": "code",
      "source": [
        "dataDF = spark.read.option(\"header\", \"true\").option(\"inferSchema\", \"true\").csv(\"worldcities.csv\")"
      ],
      "metadata": {
        "id": "VE7DtOVVteky"
      },
      "execution_count": 7,
      "outputs": []
    },
    {
      "cell_type": "code",
      "source": [
        "dataDF.show(5)"
      ],
      "metadata": {
        "colab": {
          "base_uri": "https://localhost:8080/"
        },
        "id": "6bpmkqJRvawz",
        "outputId": "1e7b6a4b-f898-4128-db9b-54dc9d10755d"
      },
      "execution_count": 8,
      "outputs": [
        {
          "output_type": "stream",
          "name": "stdout",
          "text": [
            "+-------+----------+-------+--------+-----------+----+----+-----------+-------+----------+----------+\n",
            "|   city|city_ascii|    lat|     lng|    country|iso2|iso3| admin_name|capital|population|        id|\n",
            "+-------+----------+-------+--------+-----------+----+----+-----------+-------+----------+----------+\n",
            "|  Tokyo|     Tokyo|35.6897|139.6922|      Japan|  JP| JPN|      Tōkyō|primary|  3.7977E7|1392685764|\n",
            "|Jakarta|   Jakarta|-6.2146|106.8451|  Indonesia|  ID| IDN|    Jakarta|primary|   3.454E7|1360771077|\n",
            "|  Delhi|     Delhi|  28.66|   77.23|      India|  IN| IND|      Delhi|  admin|  2.9617E7|1356872604|\n",
            "| Mumbai|    Mumbai|18.9667| 72.8333|      India|  IN| IND|Mahārāshtra|  admin|  2.3355E7|1356226629|\n",
            "| Manila|    Manila|   14.6|120.9833|Philippines|  PH| PHL|     Manila|primary|  2.3088E7|1608618140|\n",
            "+-------+----------+-------+--------+-----------+----+----+-----------+-------+----------+----------+\n",
            "only showing top 5 rows\n",
            "\n"
          ]
        }
      ]
    },
    {
      "cell_type": "code",
      "source": [
        "dataDF.count()"
      ],
      "metadata": {
        "colab": {
          "base_uri": "https://localhost:8080/"
        },
        "id": "A0Ff_KvvvfVQ",
        "outputId": "ef5881db-0a74-4d36-e5b2-0d742addc7c0"
      },
      "execution_count": 9,
      "outputs": [
        {
          "output_type": "execute_result",
          "data": {
            "text/plain": [
              "41001"
            ]
          },
          "metadata": {},
          "execution_count": 9
        }
      ]
    },
    {
      "cell_type": "code",
      "source": [
        "dataDF.write.mode('overwrite').partitionBy('country')\\\n",
        "            .option('compression', 'snappy')\\\n",
        "            .option('partitionOverwriteMode', 'dynamic')\\\n",
        "            .save('worldcities')"
      ],
      "metadata": {
        "id": "vLeKT1mmvky2"
      },
      "execution_count": 10,
      "outputs": []
    },
    {
      "cell_type": "code",
      "source": [
        "dataDFParquet = spark.read.parquet('worldcities')"
      ],
      "metadata": {
        "id": "2kupY2TswLZQ"
      },
      "execution_count": 11,
      "outputs": []
    },
    {
      "cell_type": "code",
      "source": [
        "dataDF.count()"
      ],
      "metadata": {
        "colab": {
          "base_uri": "https://localhost:8080/"
        },
        "id": "q2Zp7HOdwXeU",
        "outputId": "37d8bed5-f41c-47a8-bb69-3445c5c978ec"
      },
      "execution_count": 12,
      "outputs": [
        {
          "output_type": "execute_result",
          "data": {
            "text/plain": [
              "41001"
            ]
          },
          "metadata": {},
          "execution_count": 12
        }
      ]
    },
    {
      "cell_type": "markdown",
      "source": [
        "# Homework"
      ],
      "metadata": {
        "id": "i0FVzbBWxZso"
      }
    },
    {
      "cell_type": "code",
      "source": [
        "from pyspark.sql.types import StructType, StructField, StringType, DoubleType, IntegerType"
      ],
      "metadata": {
        "id": "tiJKxvZzwa-K"
      },
      "execution_count": 13,
      "outputs": []
    },
    {
      "cell_type": "code",
      "source": [
        "# Define the schema for the DataFrame\n",
        "schema = StructType([\n",
        "    StructField(\"city\", StringType(), True),\n",
        "    StructField(\"city_ascii\", StringType(), True),\n",
        "    StructField(\"lat\", DoubleType(), True),\n",
        "    StructField(\"lng\", DoubleType(), True),\n",
        "    StructField(\"country\", StringType(), True),\n",
        "    StructField(\"iso2\", StringType(), True),\n",
        "    StructField(\"iso3\", StringType(), True),\n",
        "    StructField(\"admin_name\", StringType(), True),\n",
        "    StructField(\"capital\", StringType(), True),\n",
        "    StructField(\"population\", IntegerType(), True),\n",
        "    StructField(\"id\", IntegerType(), True)\n",
        "])"
      ],
      "metadata": {
        "id": "a0yPC_sWxlt-"
      },
      "execution_count": 14,
      "outputs": []
    },
    {
      "cell_type": "code",
      "source": [
        "# Read the CSV file into a DataFrame\n",
        "dataDF = spark.read.option(\"header\", \"true\")\\\n",
        "                   .schema(schema)\\\n",
        "                   .csv(\"worldcities.csv\")"
      ],
      "metadata": {
        "id": "9A92bCLhxqW2"
      },
      "execution_count": 15,
      "outputs": []
    },
    {
      "cell_type": "code",
      "source": [
        "# Show the first 5 row of the DataFrame\n",
        "dataDF.show(5)"
      ],
      "metadata": {
        "colab": {
          "base_uri": "https://localhost:8080/"
        },
        "id": "Ur5hXHv9xzNs",
        "outputId": "10a2c25b-167e-45f0-8de5-38bf287f0dbc"
      },
      "execution_count": 17,
      "outputs": [
        {
          "output_type": "stream",
          "name": "stdout",
          "text": [
            "+-------+----------+-------+--------+-----------+----+----+-----------+-------+----------+----------+\n",
            "|   city|city_ascii|    lat|     lng|    country|iso2|iso3| admin_name|capital|population|        id|\n",
            "+-------+----------+-------+--------+-----------+----+----+-----------+-------+----------+----------+\n",
            "|  Tokyo|     Tokyo|35.6897|139.6922|      Japan|  JP| JPN|      Tōkyō|primary|  37977000|1392685764|\n",
            "|Jakarta|   Jakarta|-6.2146|106.8451|  Indonesia|  ID| IDN|    Jakarta|primary|  34540000|1360771077|\n",
            "|  Delhi|     Delhi|  28.66|   77.23|      India|  IN| IND|      Delhi|  admin|  29617000|1356872604|\n",
            "| Mumbai|    Mumbai|18.9667| 72.8333|      India|  IN| IND|Mahārāshtra|  admin|  23355000|1356226629|\n",
            "| Manila|    Manila|   14.6|120.9833|Philippines|  PH| PHL|     Manila|primary|  23088000|1608618140|\n",
            "+-------+----------+-------+--------+-----------+----+----+-----------+-------+----------+----------+\n",
            "only showing top 5 rows\n",
            "\n"
          ]
        }
      ]
    },
    {
      "cell_type": "code",
      "source": [
        "# Count the number of rows in the DataFrame\n",
        "print(\"Total number of rows:\", dataDF.count())"
      ],
      "metadata": {
        "colab": {
          "base_uri": "https://localhost:8080/"
        },
        "id": "BYn5yglMx24i",
        "outputId": "1d2fe57c-8697-451d-8cbd-83a67a89b296"
      },
      "execution_count": 18,
      "outputs": [
        {
          "output_type": "stream",
          "name": "stdout",
          "text": [
            "Total number of rows: 41001\n"
          ]
        }
      ]
    },
    {
      "cell_type": "code",
      "source": [
        "# Calculate the total population for each country and order by population in descending order\n",
        "results = dataDF.groupBy(\"country\").sum(\"population\").orderBy(\"sum(population)\", ascending=False)"
      ],
      "metadata": {
        "id": "7WMYfDN2yLGz"
      },
      "execution_count": 19,
      "outputs": []
    },
    {
      "cell_type": "code",
      "source": [
        "# Show the top 5 countries by total population\n",
        "results.show(5)"
      ],
      "metadata": {
        "colab": {
          "base_uri": "https://localhost:8080/"
        },
        "id": "AEXWD1lhyYmx",
        "outputId": "dee24345-9c41-4a29-bfb8-ee472ec41707"
      },
      "execution_count": 20,
      "outputs": [
        {
          "output_type": "stream",
          "name": "stdout",
          "text": [
            "+-------------+---------------+\n",
            "|      country|sum(population)|\n",
            "+-------------+---------------+\n",
            "|        China|     1446111841|\n",
            "|United States|      401453709|\n",
            "|        India|      270309635|\n",
            "|       Brazil|      198554881|\n",
            "|        Japan|      138634635|\n",
            "+-------------+---------------+\n",
            "only showing top 5 rows\n",
            "\n"
          ]
        }
      ]
    },
    {
      "cell_type": "code",
      "source": [
        "# Save the results to a CSV file\n",
        "results.write.mode('overwrite').option(\"header\", \"true\").csv(\"country_population.csv\")"
      ],
      "metadata": {
        "id": "kU5A9tE2yeqG"
      },
      "execution_count": 21,
      "outputs": []
    }
  ]
}